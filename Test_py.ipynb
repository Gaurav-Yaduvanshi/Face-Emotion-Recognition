{
  "nbformat": 4,
  "nbformat_minor": 0,
  "metadata": {
    "colab": {
      "provenance": [],
      "mount_file_id": "12fUg4-cSZzbDyvqpF4LovaooexeNpyzC",
      "authorship_tag": "ABX9TyPaAs6SK3i0JeTb7DIfyR6K",
      "include_colab_link": true
    },
    "kernelspec": {
      "name": "python3",
      "display_name": "Python 3"
    },
    "language_info": {
      "name": "python"
    }
  },
  "cells": [
    {
      "cell_type": "markdown",
      "metadata": {
        "id": "view-in-github",
        "colab_type": "text"
      },
      "source": [
        "<a href=\"https://colab.research.google.com/github/Gaurav-Yaduvanshi/Face-Emotion-Recognition/blob/main/Test_py.ipynb\" target=\"_parent\"><img src=\"https://colab.research.google.com/assets/colab-badge.svg\" alt=\"Open In Colab\"/></a>"
      ]
    },
    {
      "cell_type": "markdown",
      "source": [
        "# VideoCapture"
      ],
      "metadata": {
        "id": "Z_UcV9SujuYL"
      }
    },
    {
      "cell_type": "code",
      "source": [
        "pwd"
      ],
      "metadata": {
        "colab": {
          "base_uri": "https://localhost:8080/",
          "height": 36
        },
        "id": "QCVzt4k2iHdO",
        "outputId": "fe118134-537b-4774-d522-8cfa7dc9665a"
      },
      "execution_count": null,
      "outputs": [
        {
          "output_type": "execute_result",
          "data": {
            "text/plain": [
              "'/content'"
            ],
            "application/vnd.google.colaboratory.intrinsic+json": {
              "type": "string"
            }
          },
          "metadata": {},
          "execution_count": 1
        }
      ]
    },
    {
      "cell_type": "code",
      "source": [
        "%cd /content/drive/MyDrive/Almabetter/Face_Emotion_Recognition"
      ],
      "metadata": {
        "colab": {
          "base_uri": "https://localhost:8080/"
        },
        "id": "KWZlsJSciHbN",
        "outputId": "c60ffc59-2aa0-4b10-ba15-0246470e1dc5"
      },
      "execution_count": null,
      "outputs": [
        {
          "output_type": "stream",
          "name": "stdout",
          "text": [
            "/content/drive/MyDrive/Almabetter/Face_Emotion_Recognition\n"
          ]
        }
      ]
    },
    {
      "cell_type": "markdown",
      "source": [
        "# Files\n",
        "## 1. model.h5 - Model contains       information about the emotions of the train set, such as the Happy,Sad,Angry and so on.\n",
        "## 2. Haarcascade_frontalface_alt.xml -used for image processing."
      ],
      "metadata": {
        "id": "8AjtKOEVdlxO"
      }
    },
    {
      "cell_type": "code",
      "source": [
        "# Test.py (Webcam)\n",
        "from tensorflow import keras\n",
        "from tensorflow.keras.models import load_model\n",
        "from time import sleep\n",
        "from tensorflow.keras.preprocessing.image import img_to_array\n",
        "from tensorflow.keras.preprocessing import image\n",
        "import cv2\n",
        "import numpy as np\n",
        "from keras.models import model_from_json\n",
        "\n",
        "emotion_dict = {0: \"Angry\", 1: \"Disgusted\", 2: \"Fearful\", 3: \"Happy\", 4: \"Neutral\", 5: \"Sad\", 6: \"Surprised\"}\n",
        "\n",
        "# load weights into new model\n",
        "emotion_model = load_model(r'/content/drive/MyDrive/Almabetter/Face_Emotion_Recognition/model.h5')\n",
        "print(\"Loaded model from disk\")\n",
        "\n",
        "# start the webcam feed\n",
        "cap = cv2.VideoCapture(0)\n",
        "\n",
        "# pass here your video path\n",
        "# you may download one from here : https://www.pexels.com/video\n",
        "#cap = cv2.VideoCapture(r\"C:\\Users\\gaura\\Videos\\Emotion Sample 3.mp4\")\n",
        "while True:\n",
        "    # Find haar cascade to draw bounding box around face\n",
        "    ret, frame = cap.read()\n",
        "    #frame = cv2.resize(frame, (1280, 720))\n",
        "    if not ret:\n",
        "        break\n",
        "    face_detector = cv2.CascadeClassifier('haarcascades/haarcascade_frontalface_default.xml')\n",
        "    gray_frame = cv2.cvtColor(frame, cv2.COLOR_BGR2GRAY)\n",
        "\n",
        "    # detect faces available on camera\n",
        "    num_faces = face_detector.detectMultiScale(gray_frame, scaleFactor=1.3, minNeighbors=5)\n",
        "\n",
        "    # take each face available on the camera and Preprocess it\n",
        "    for (x, y, w, h) in num_faces:\n",
        "        cv2.rectangle(frame, (x, y-50), (x+w, y+h+10), (0, 255, 0), 4)\n",
        "        roi_gray_frame = gray_frame[y:y + h, x:x + w]\n",
        "        cropped_img = np.expand_dims(np.expand_dims(cv2.resize(roi_gray_frame, (48, 48)), -1), 0)\n",
        "\n",
        "        # predict the emotions\n",
        "        emotion_prediction = emotion_model.predict(cropped_img)\n",
        "        maxindex = int(np.argmax(emotion_prediction))\n",
        "        cv2.putText(frame, emotion_dict[maxindex], (x+5, y-20), cv2.FONT_HERSHEY_SIMPLEX, 1, (255, 0, 0), 2, cv2.LINE_AA)\n",
        "\n",
        "    cv2.imshow('Emotion Detection', frame)\n",
        "    if cv2.waitKey(1) & 0xFF == ord('q'):\n",
        "        break\n",
        "\n",
        "cap.release()\n",
        "cv2.destroyAllWindows()"
      ],
      "metadata": {
        "colab": {
          "base_uri": "https://localhost:8080/"
        },
        "outputId": "ac19882d-354d-4fa5-fdc1-b458ae5ef453",
        "id": "CckG_IZEoreq"
      },
      "execution_count": null,
      "outputs": [
        {
          "output_type": "stream",
          "name": "stdout",
          "text": [
            "Loaded model from disk\n"
          ]
        }
      ]
    },
    {
      "cell_type": "code",
      "source": [
        "# Test.py(Video and pics)\n",
        "from tensorflow import keras\n",
        "from keras.models import load_model\n",
        "from time import sleep\n",
        "from tensorflow.keras.utils import img_to_array\n",
        "from keras.preprocessing import image\n",
        "import cv2\n",
        "import numpy as np\n",
        "\n",
        "face_classifier = cv2.CascadeClassifier(r'C:\\Users\\gaura\\Downloads\\Kaggle\\Face Emotion Recognition\\haarcascade_frontalface_default.xml')\n",
        "classifier =load_model(r\"C:\\Users\\gaura\\Downloads\\Kaggle\\Face Emotion Recognition\\model.h5\")\n",
        "\n",
        "emotion_labels = ['Angry','Disgust','Fear','Happy','Neutral', 'Sad', 'Surprise']\n",
        "\n",
        "#cap = cv2.VideoCapture(0)\n",
        "# pass here your video path\n",
        "# you may download one from here : https://www.pexels.com/video\n",
        "cap = cv2.VideoCapture(r\"C:\\Users\\gaura\\Videos\\sample_suprise.mp4\")\n",
        "\n",
        "while True:\n",
        "    _, frame = cap.read()\n",
        "    frame = cv2.resize(frame, (1280,720))\n",
        "    labels = []\n",
        "    gray = cv2.cvtColor(frame,cv2.COLOR_BGR2GRAY)\n",
        "    faces = face_classifier.detectMultiScale(gray)\n",
        "\n",
        "    for (x,y,w,h) in faces:\n",
        "        cv2.rectangle(frame,(x,y),(x+w,y+h),(0,255,255),2)\n",
        "        roi_gray = gray[y:y+h,x:x+w]\n",
        "        roi_gray = cv2.resize(roi_gray,(48,48),interpolation=cv2.INTER_AREA)\n",
        "\n",
        "\n",
        "        if np.sum([roi_gray])!=0:\n",
        "            roi = roi_gray.astype('float')/255.0\n",
        "            roi = img_to_array(roi)\n",
        "            roi = np.expand_dims(roi,axis=0)\n",
        "\n",
        "            prediction = classifier.predict(roi)[0]\n",
        "            label=emotion_labels[prediction.argmax()]\n",
        "            label_position = (x,y-10)\n",
        "            cv2.putText(frame,label,label_position, cv2.FONT_HERSHEY_SIMPLEX, 1, (255, 0, 0), 2, cv2.LINE_AA)\n",
        "        else:\n",
        "            cv2.putText(frame,'No Faces',(30,80),cv2.FONT_HERSHEY_SIMPLEX,1,(0,255,0),2)\n",
        "    cv2.imshow('Emotion Detector',frame)\n",
        "    if cv2.waitKey(1) & 0xFF == ord('q'):\n",
        "        break\n",
        "\n",
        "cap.release()\n",
        "cv2.destroyAllWindows()"
      ],
      "metadata": {
        "id": "FX6dvNR4qyc8"
      },
      "execution_count": null,
      "outputs": []
    }
  ]
}